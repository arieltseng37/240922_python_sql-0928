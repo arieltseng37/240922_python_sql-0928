{
 "cells": [
  {
   "cell_type": "code",
   "execution_count": 2,
   "metadata": {},
   "outputs": [
    {
     "data": {
      "text/plain": [
       "6703"
      ]
     },
     "execution_count": 2,
     "metadata": {},
     "output_type": "execute_result"
    }
   ],
   "source": [
    "import psycopg2\n",
    "from dotenv import load_dotenv\n",
    "import os\n",
    "load_dotenv()\n",
    "\n",
    "conn = psycopg2.connect(host=os.environ['POSTGRE_HOST'],database=os.environ['POSTGRE_DATABASE'],user=os.environ['POSTGRE_USER'],password=os.environ['POSTGRE_PASSWORD'])\n",
    "\n",
    "with conn:\n",
    "    with conn.cursor() as cursor:\n",
    "        sql='''\n",
    "        select country, 市場.name, date, adj_close, volume\n",
    "        from 股市 JOIN 市場 ON 股市.name=市場.name\n",
    "        where country='台灣';\n",
    "        '''\n",
    "        cursor.execute(sql)\n",
    "        all_data = cursor.fetchall()\n",
    "conn.close()\n",
    "all_data\n",
    "len(all_data)\n"
   ]
  },
  {
   "cell_type": "code",
   "execution_count": null,
   "metadata": {},
   "outputs": [],
   "source": []
  },
  {
   "cell_type": "code",
   "execution_count": 56,
   "metadata": {},
   "outputs": [],
   "source": [
    "#連Ariel新加坡的server\n",
    "import psycopg2\n",
    "\n",
    "from decimal import Decimal\n",
    "\n",
    "import psycopg2\n",
    "from dotenv import load_dotenv\n",
    "load_dotenv()\n",
    "\n",
    "\n",
    "\n",
    "conn = psycopg2.connect(host='dpg-csc90lg8fa8c73frl8kg-a.singapore-postgres.render.com',\n",
    " database='render_1028',user='render_1028_user',password='uISe6pSOqtBVPboj2NbgeZRpqUqb49Tl')\n",
    "\n",
    "with conn:\n",
    "    all_data = taiwan.to_dict(orient='index')\n",
    "for key,value in all_data.items():\n",
    "    date=key.date()\n",
    "    name='^TWII'\n",
    "    adj_close=value[('Adj Close',name)]\n",
    "    open=value[('Open',name)]\n",
    "    high=value[('High',name)]\n",
    "    low=value[('Low',name)]\n",
    "    close=value[('Close',name)]\n",
    "    volume=value[('Volume',name)]  \n",
    "    with conn.cursor() as cursor:\n",
    "        sql='''\n",
    "        INSERT INTO 股市(date,open,high,low,close,adj_close,volume,name) \n",
    "        values(%s,%s,%s,%s,%s,%s,%s,%s);\n",
    "        '''\n",
    "        cursor.execute(sql,[date,open,high,low,close, adj_close,volume,name])\n",
    "conn.close()    \n"
   ]
  },
  {
   "cell_type": "code",
   "execution_count": 43,
   "metadata": {},
   "outputs": [],
   "source": [
    "with conn:\n",
    "    with conn.cursor() as cursor:\n",
    "        sql='''\n",
    "        INSERT INTO 市場 values (%s,%s)\n",
    "        ON CONFLICT DO NOTHING;\n",
    "        '''\n",
    "        cursor.execute(sql,['^HSI','香港恒生'])\n",
    "conn.close()"
   ]
  },
  {
   "cell_type": "code",
   "execution_count": 44,
   "metadata": {},
   "outputs": [
    {
     "name": "stderr",
     "output_type": "stream",
     "text": [
      "[*********************100%***********************]  1 of 1 completed\n"
     ]
    }
   ],
   "source": [
    "import yfinance as yf\n",
    "hsi = yf.download('^HSI')\n",
    "all_data = hsi.to_dict(orient='index')"
   ]
  },
  {
   "cell_type": "code",
   "execution_count": 47,
   "metadata": {},
   "outputs": [
    {
     "ename": "KeyboardInterrupt",
     "evalue": "",
     "output_type": "error",
     "traceback": [
      "\u001b[1;31m---------------------------------------------------------------------------\u001b[0m",
      "\u001b[1;31mKeyboardInterrupt\u001b[0m                         Traceback (most recent call last)",
      "Cell \u001b[1;32mIn[47], line 25\u001b[0m\n\u001b[0;32m     19\u001b[0m         \u001b[38;5;28;01mwith\u001b[39;00m conn\u001b[38;5;241m.\u001b[39mcursor() \u001b[38;5;28;01mas\u001b[39;00m cursor:\n\u001b[0;32m     20\u001b[0m             sql\u001b[38;5;241m=\u001b[39m\u001b[38;5;124m'''\u001b[39m\n\u001b[0;32m     21\u001b[0m \u001b[38;5;124m            INSERT INTO 股市(date,open,high,low,close,adj_close,volume,name) \u001b[39m\n\u001b[0;32m     22\u001b[0m \u001b[38;5;124m            values(\u001b[39m\u001b[38;5;132;01m%s\u001b[39;00m\u001b[38;5;124m,\u001b[39m\u001b[38;5;132;01m%s\u001b[39;00m\u001b[38;5;124m,\u001b[39m\u001b[38;5;132;01m%s\u001b[39;00m\u001b[38;5;124m,\u001b[39m\u001b[38;5;132;01m%s\u001b[39;00m\u001b[38;5;124m,\u001b[39m\u001b[38;5;132;01m%s\u001b[39;00m\u001b[38;5;124m,\u001b[39m\u001b[38;5;132;01m%s\u001b[39;00m\u001b[38;5;124m,\u001b[39m\u001b[38;5;132;01m%s\u001b[39;00m\u001b[38;5;124m,\u001b[39m\u001b[38;5;132;01m%s\u001b[39;00m\u001b[38;5;124m);\u001b[39m\n\u001b[0;32m     23\u001b[0m \u001b[38;5;124m                       \u001b[39m\n\u001b[0;32m     24\u001b[0m \u001b[38;5;124m            \u001b[39m\u001b[38;5;124m'''\u001b[39m\n\u001b[1;32m---> 25\u001b[0m             \u001b[43mcursor\u001b[49m\u001b[38;5;241;43m.\u001b[39;49m\u001b[43mexecute\u001b[49m\u001b[43m(\u001b[49m\u001b[43msql\u001b[49m\u001b[43m,\u001b[49m\u001b[43m[\u001b[49m\u001b[43mdate\u001b[49m\u001b[43m,\u001b[49m\u001b[38;5;28;43mopen\u001b[39;49m\u001b[43m,\u001b[49m\u001b[43mhigh\u001b[49m\u001b[43m,\u001b[49m\u001b[43mlow\u001b[49m\u001b[43m,\u001b[49m\u001b[43mclose\u001b[49m\u001b[43m,\u001b[49m\u001b[43madj_close\u001b[49m\u001b[43m,\u001b[49m\u001b[43mvolume\u001b[49m\u001b[43m,\u001b[49m\u001b[43mname\u001b[49m\u001b[43m]\u001b[49m\u001b[43m)\u001b[49m\n\u001b[0;32m     26\u001b[0m conn\u001b[38;5;241m.\u001b[39mclose()\n",
      "File \u001b[1;32mc:\\Users\\user\\miniconda3\\envs\\chillee-sql\\lib\\encodings\\utf_8.py:15\u001b[0m, in \u001b[0;36mdecode\u001b[1;34m(input, errors)\u001b[0m\n\u001b[0;32m     11\u001b[0m \u001b[38;5;66;03m### Codec APIs\u001b[39;00m\n\u001b[0;32m     13\u001b[0m encode \u001b[38;5;241m=\u001b[39m codecs\u001b[38;5;241m.\u001b[39mutf_8_encode\n\u001b[1;32m---> 15\u001b[0m \u001b[38;5;28;01mdef\u001b[39;00m \u001b[38;5;21mdecode\u001b[39m(\u001b[38;5;28minput\u001b[39m, errors\u001b[38;5;241m=\u001b[39m\u001b[38;5;124m'\u001b[39m\u001b[38;5;124mstrict\u001b[39m\u001b[38;5;124m'\u001b[39m):\n\u001b[0;32m     16\u001b[0m     \u001b[38;5;28;01mreturn\u001b[39;00m codecs\u001b[38;5;241m.\u001b[39mutf_8_decode(\u001b[38;5;28minput\u001b[39m, errors, \u001b[38;5;28;01mTrue\u001b[39;00m)\n\u001b[0;32m     18\u001b[0m \u001b[38;5;28;01mclass\u001b[39;00m \u001b[38;5;21;01mIncrementalEncoder\u001b[39;00m(codecs\u001b[38;5;241m.\u001b[39mIncrementalEncoder):\n",
      "\u001b[1;31mKeyboardInterrupt\u001b[0m: "
     ]
    }
   ],
   "source": [
    "from decimal import Decimal\n",
    "from dotenv import load_dotenv\n",
    "load_dotenv()\n",
    "\n",
    "conn = psycopg2.connect(host='dpg-csc90lg8fa8c73frl8kg-a.singapore-postgres.render.com',\n",
    "     database='render_1028',user='render_1028_user',password='uISe6pSOqtBVPboj2NbgeZRpqUqb49Tl')\n",
    "\n",
    "with conn:\n",
    "    all_data = hsi.to_dict(orient='index')\n",
    "    for key,value in all_data.items():\n",
    "        date = key.date()\n",
    "        name = '^HSI'\n",
    "        adj_close = Decimal(value[('Adj Close', name)])\n",
    "        open = Decimal(value[('Open', name)])\n",
    "        high = Decimal(value[('High', name)])\n",
    "        low = Decimal(value[('Low', name)])\n",
    "        close = Decimal(value[('Close', name)])\n",
    "        volume = Decimal(value[('Volume', name)])\n",
    "        with conn.cursor() as cursor:\n",
    "            sql='''\n",
    "            INSERT INTO 股市(date,open,high,low,close,adj_close,volume,name) \n",
    "            values(%s,%s,%s,%s,%s,%s,%s,%s);\n",
    "                       \n",
    "            '''\n",
    "            cursor.execute(sql,[date,open,high,low,close,adj_close,volume,name])\n",
    "conn.close()"
   ]
  },
  {
   "cell_type": "code",
   "execution_count": null,
   "metadata": {},
   "outputs": [],
   "source": []
  },
  {
   "cell_type": "code",
   "execution_count": null,
   "metadata": {},
   "outputs": [],
   "source": []
  },
  {
   "cell_type": "code",
   "execution_count": null,
   "metadata": {},
   "outputs": [],
   "source": [
    "import yfinance as yf\n",
    "taiwan=yf.download('^HSI')\n"
   ]
  },
  {
   "cell_type": "code",
   "execution_count": null,
   "metadata": {},
   "outputs": [],
   "source": [
    "all_data = taiwan.to_dict(orient='index')\n",
    "for key,value in all_data.items():\n",
    "    date=key.date()\n",
    "    name='^TWII'\n",
    "    print(date)\n",
    "    adj_close=value[('Adj Close',name)]\n",
    "    open=value[('Open',name)]\n",
    "    high=value[('High',name)]\n",
    "    low=value[('Low',name)]\n",
    "    close=value[('Close',name)]\n",
    "    volume=value[('Volume',name)]  \n",
    "    print(\"=====\")"
   ]
  },
  {
   "cell_type": "code",
   "execution_count": null,
   "metadata": {},
   "outputs": [],
   "source": [
    "\n",
    "#連Ariel新加坡的server\n",
    "import psycopg2\n",
    "conn = psycopg2.connect(host='dpg-csc90lg8fa8c73frl8kg-a.singapore-postgres.render.com',\n",
    "     database='render_1028',user='render_1028_user',password='uISe6pSOqtBVPboj2NbgeZRpqUqb49Tl')\n",
    "\n",
    "with conn:\n",
    "    all_data = taiwan.to_dict(orient='index')\n",
    "for key,value in all_data.items():\n",
    "    date=key.date()\n",
    "    name='^TWII'\n",
    "    adj_close=value[('Adj Close',name)]\n",
    "    open=value[('Open',name)]\n",
    "    high=value[('High',name)]\n",
    "    low=value[('Low',name)]\n",
    "    close=value[('Close',name)]\n",
    "    volume=value[('Volume',name)]  \n",
    "    with conn.cursor() as cursor:\n",
    "        sql='''\n",
    "        INSERT INTO 股市(date,open,high,low,close,adj_close,volume,name) \n",
    "        values(%s,%s,%s,%s,%s,%s,%s,%s);\n",
    "        '''\n",
    "        cursor.execute(sql,[date,open,high,low,close, adj_close,volume,name])\n",
    "conn.close()    "
   ]
  },
  {
   "cell_type": "code",
   "execution_count": null,
   "metadata": {},
   "outputs": [],
   "source": [
    "\n",
    "#連Ariel新加坡的server\n",
    "import psycopg2\n",
    "conn = psycopg2.connect(host='dpg-csc90lg8fa8c73frl8kg-a.singapore-postgres.render.com',\n",
    "     database='render_1028',user='render_1028_user',password='uISe6pSOqtBVPboj2NbgeZRpqUqb49Tl')\n",
    "with conn:\n",
    "    all_data = taiwan.to_dict(orient='index')\n",
    "for key,value in all_data.items():\n",
    "    date=key.date()\n",
    "    name='^TWII'\n",
    "    adj_close=value[('Adj Close',name)]\n",
    "    open=value[('Open',name)]\n",
    "    high=value[('High',name)]\n",
    "    low=value[('Low',name)]\n",
    "    close=value[('Close',name)]\n",
    "    volume=value[('Volume',name)]  \n",
    "    with conn.cursor() as cursor:\n",
    "        sql='''\n",
    "        INSERT INTO 股市(date,open,high,low,close,adj_close,volume,name) \n",
    "        values(%s,%s,%s,%s,%s,%s,%s,%s);\n",
    "        '''\n",
    "        cursor.execute(sql,[date,open,high,low,close, adj_close,volume,name])\n",
    "conn.close() "
   ]
  }
 ],
 "metadata": {
  "kernelspec": {
   "display_name": "chillee-sql",
   "language": "python",
   "name": "python3"
  },
  "language_info": {
   "codemirror_mode": {
    "name": "ipython",
    "version": 3
   },
   "file_extension": ".py",
   "mimetype": "text/x-python",
   "name": "python",
   "nbconvert_exporter": "python",
   "pygments_lexer": "ipython3",
   "version": "3.10.15"
  }
 },
 "nbformat": 4,
 "nbformat_minor": 2
}
